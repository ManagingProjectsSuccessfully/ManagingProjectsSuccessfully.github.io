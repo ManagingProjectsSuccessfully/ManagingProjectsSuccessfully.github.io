{
 "cells": [
  {
   "cell_type": "code",
   "execution_count": 28,
   "metadata": {},
   "outputs": [],
   "source": [
    "import pandas as pd, os\n",
    "import shutil\n",
    "import tabulate\n",
    "import collections\n",
    "import math\n",
    "\n",
    "repo = r\"../kb\"\n",
    "\n",
    "template_file = r\"Projekt.md\""
   ]
  },
  {
   "cell_type": "code",
   "execution_count": 29,
   "metadata": {},
   "outputs": [],
   "source": [
    "#shutil.rmtree(\"../kb\",ignore_errors=True)\n",
    "#os.mkdir(\"../kb\")"
   ]
  },
  {
   "cell_type": "code",
   "execution_count": 30,
   "metadata": {},
   "outputs": [
    {
     "data": {
      "text/plain": [
       "GitHub\n",
       "fa97fyka            2\n",
       "JonathanLoewing     2\n",
       "emir-eroglu         2\n",
       "Juliakau            2\n",
       "efdil               2\n",
       "LaHe27              2\n",
       "danielleilei        2\n",
       "JaBa3000            2\n",
       "zo54hoko            2\n",
       "                   40\n",
       "Name: GitHub, dtype: int64"
      ]
     },
     "execution_count": 30,
     "metadata": {},
     "output_type": "execute_result"
    }
   ],
   "source": [
    "df = pd.read_excel(r'2021-10-26_Themenzuordnung.xlsx')\n",
    "df.fillna('', inplace=True) # rplace nan with empty string\n",
    "df[[\"GitHub\"]].groupby(\"GitHub\")[\"GitHub\"].count().sort_values().tail(10)\n"
   ]
  },
  {
   "cell_type": "code",
   "execution_count": 31,
   "metadata": {},
   "outputs": [
    {
     "data": {
      "text/plain": [
       "[('', 40),\n",
       " ('fcn478', 2),\n",
       " ('jy59zadi', 2),\n",
       " ('zo54hoko', 2),\n",
       " ('simonm211', 2),\n",
       " ('laura1mueller', 2),\n",
       " ('5sy5', 2),\n",
       " ('catpec', 2),\n",
       " ('loris18', 2),\n",
       " ('lorybr', 2)]"
      ]
     },
     "execution_count": 31,
     "metadata": {},
     "output_type": "execute_result"
    }
   ],
   "source": [
    "collections.Counter([str(a[1]).lower() for a in list(df.values)]).most_common(10)"
   ]
  },
  {
   "cell_type": "code",
   "execution_count": 32,
   "metadata": {},
   "outputs": [],
   "source": [
    "topics = list(df[\"Themen\"])\n",
    "users = list(df[\"GitHub\"])\n",
    "\n",
    "with open(template_file, encoding='utf-8') as f:\n",
    "    template_md = f.read()"
   ]
  },
  {
   "cell_type": "code",
   "execution_count": 33,
   "metadata": {
    "tags": []
   },
   "outputs": [],
   "source": [
    "for t, u in zip(topics, users):\n",
    "    if str(u).lower() != \"qu68pakaoeuaouaoua\".lower():\n",
    "        continue\n",
    "    else:\n",
    "        print(\".\",end='')\n",
    "    \n",
    "    if t and u: # create pages only if \n",
    "        try:\n",
    "            f = template_md.format(Projekt=t, GitHubUserName=u)\n",
    "            with open(f\"../kb/{t}.md\", \"w\", encoding=\"UTF-8\") as f_out:\n",
    "                f_out.write(f)\n",
    "\n",
    "            #shutil.copytree(\"Projekt\", f\"../kb/{t}\", dirs_exist_ok=True)\n",
    "\n",
    "\n",
    "        except Exception as e:\n",
    "            print(e)\n",
    "            print(\"Error bei: \" + t)\n",
    "    else:\n",
    "        continue"
   ]
  },
  {
   "cell_type": "code",
   "execution_count": 34,
   "metadata": {},
   "outputs": [],
   "source": [
    "t = [[f\"[{n[0]}](kb/{n[0]}.md)\",f\"[{n[1]}](https://github.com/{n[1]})\"] for n in zip(topics,users) if n[0] and n[1]] # added if statement to avoid creation of links for non-existant pages\n",
    "md_table= tabulate.tabulate(t, [\"Beitrag\", \"GitHub Username\"], tablefmt=\"github\")\n",
    "page = f\"\"\"---\n",
    "title: Themenzuordnung\n",
    "author: anniSc\n",
    "---\n",
    "\n",
    "{md_table}\n",
    "\n",
    "\"\"\"\n",
    "with open(f\"../Themenzuordnung.md\", \"w\", encoding=\"UTF-8\") as f_out:\n",
    "    f_out.write(page)"
   ]
  },
  {
   "cell_type": "code",
   "execution_count": null,
   "metadata": {},
   "outputs": [],
   "source": []
  },
  {
   "cell_type": "code",
   "execution_count": null,
   "metadata": {},
   "outputs": [],
   "source": []
  }
 ],
 "metadata": {
  "kernelspec": {
   "display_name": "Python 3",
   "language": "python",
   "name": "python3"
  },
  "language_info": {
   "codemirror_mode": {
    "name": "ipython",
    "version": 3
   },
   "file_extension": ".py",
   "mimetype": "text/x-python",
   "name": "python",
   "nbconvert_exporter": "python",
   "pygments_lexer": "ipython3",
   "version": "3.8.5"
  }
 },
 "nbformat": 4,
 "nbformat_minor": 5
}
